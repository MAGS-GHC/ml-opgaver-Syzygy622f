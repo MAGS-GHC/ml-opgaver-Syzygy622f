{
  "cells": [
    {
      "cell_type": "markdown",
      "metadata": {
        "id": "prQhJx_AbDJq"
      },
      "source": [
        "Her er jeres første rigtige opgave! I skal lave bruge [yfinance](https://mercantec.notion.site/yfinance-8f05decbf9a040659da38616e432ed62?pvs=4) også kaldet Yahoo Finance, til at trække data ned på jeres yndlingsaktie! I skal herfra lave en regressionsmodel på dataet. Det involvere at splitte dataet op i træningsdata og testdata.\n",
        "Nedenunder er der lige et code-snippet til at få jer startet!"
      ]
    },
    {
      "cell_type": "markdown",
      "metadata": {
        "id": "ACqDD78JbDJr"
      },
      "source": [
        "Vi skal bruge følgende pakker til at starte vores projekt, en del af dem kender I. Pandas fra første dag, datetime har i nok arbejdet med lignende pakker før. [yfinance](https://mercantec.notion.site/yfinance-8f05decbf9a040659da38616e432ed62?pvs=4) er den som er linket til ovenfor og har alt det data vi skal bruge. Til sidste er der matplitlib, den er ikke strengt nødvendig for vores projekt, men det hjælper ofte at få et visuelt billede på! Dokumentation kan findes [her](https://mercantec.notion.site/MatPlotLib-bb10bec44c8e4bc28ac511017dbc895d?pvs=4)"
      ]
    },
    {
      "cell_type": "code",
      "execution_count": 75,
      "metadata": {
        "id": "RjS6sWBQbDJr"
      },
      "outputs": [],
      "source": [
        "import yfinance as yf\n",
        "import pandas as pd\n",
        "from datetime import date, timedelta\n",
        "from matplotlib import pyplot as plt"
      ]
    },
    {
      "cell_type": "markdown",
      "metadata": {
        "id": "v7sF0Ja-bDJs"
      },
      "source": [
        "Vi bruger datetime pakken til at sætte et startspunkt og et slutpunkt. Startspunktet er for 365 dage siden og slutpunktet er for 2 dage siden!"
      ]
    },
    {
      "cell_type": "code",
      "execution_count": 76,
      "metadata": {
        "colab": {
          "base_uri": "https://localhost:8080/",
          "height": 35
        },
        "id": "2pbvpRvcbDJs",
        "outputId": "ae3b8850-8b19-4b54-ff07-3977f20e8e43"
      },
      "outputs": [
        {
          "output_type": "execute_result",
          "data": {
            "text/plain": [
              "'2024-01-12'"
            ],
            "application/vnd.google.colaboratory.intrinsic+json": {
              "type": "string"
            }
          },
          "metadata": {},
          "execution_count": 76
        }
      ],
      "source": [
        "Start = date.today() - timedelta(365)\n",
        "Start.strftime('%Y-%m-%d')\n",
        "\n",
        "End = date.today() + timedelta(2)\n",
        "End.strftime('%Y-%m-%d')"
      ]
    },
    {
      "cell_type": "markdown",
      "metadata": {
        "id": "8eWId9w3bDJs"
      },
      "source": [
        "Vi laver en funktion som tager en \"ticker\" ind, altså en aktie.\n",
        "Her bruger vi så Pandas, pd, til at en dataframe som indeholder vores data omkring den valgte ticker, med slut og startsdato som definere før."
      ]
    },
    {
      "cell_type": "code",
      "execution_count": 77,
      "metadata": {
        "id": "elcfAswPbDJs"
      },
      "outputs": [],
      "source": [
        "def closing_price(ticker):\n",
        "    Asset = pd.DataFrame(yf.download(ticker, start=Start,\n",
        "      end=End))\n",
        "    return Asset"
      ]
    },
    {
      "cell_type": "markdown",
      "metadata": {
        "id": "6FKEstZZbDJs"
      },
      "source": [
        "Nu kan vi bruge vores funktion til at se på vores data. Her bruger vi Microsoft aktien, MSFT. Standarten er at vi for dato, åbningsprisen, højeste og laveste på dagen, lukke prisen og den justerede lukkepris. Vi kan så bruge matplotlib"
      ]
    },
    {
      "cell_type": "code",
      "execution_count": null,
      "metadata": {
        "id": "BxQR3bzQbDJs"
      },
      "outputs": [],
      "source": [
        "microsoft = closing_price('MSFT')\n",
        "print(microsoft)\n",
        "plt.plot(microsoft['Adj Close'])\n",
        "plt.show()"
      ]
    },
    {
      "cell_type": "markdown",
      "metadata": {
        "id": "z1lZDNq-bDJt"
      },
      "source": [
        "# Opgaven\n",
        "\n",
        "Opgaven går nu på at I skal bruge jeres viden omkring regression på at lave en model som kan forudsige hvad aktie prisen bliver over den næste periode eller forhåbenligt bare en retning.\n",
        "\n",
        "Det er ikke målet at I skal finde en model som gør det, men at I skal lege rundt med det. De værktøjer som vi har fået indtil videre, er ikke nok til at kunne lave en model som har noget grundlag. Det data vi for er heller ikke nok.\n",
        "\n",
        "I kan tage inspiration ud fra dokumenterne her [regression](https://github.com/MAGS-Template/MachineLearning/blob/main/1.%20Regression/1.%20regression.ipynb) og [regression med data](https://github.com/MAGS-Template/MachineLearning/blob/main/1.%20Regression/2.%20regression_with_data.ipynb) - det er filerne i samme mappe som den her!\n"
      ]
    },
    {
      "cell_type": "code",
      "source": [
        "import yfinance as yf\n",
        "import numpy as np\n",
        "import pandas as pd\n",
        "from datetime import date, timedelta\n",
        "from matplotlib import pyplot as plt\n",
        "import seaborn as sns"
      ],
      "metadata": {
        "id": "bkiv4kZSfeBI"
      },
      "execution_count": 150,
      "outputs": []
    },
    {
      "cell_type": "code",
      "source": [
        "Start = date.today() - timedelta(365)\n",
        "Start.strftime('%Y-%m-%d')\n",
        "\n",
        "End = date.today() + timedelta(2)\n",
        "End.strftime('%Y-%m-%d')"
      ],
      "metadata": {
        "colab": {
          "base_uri": "https://localhost:8080/",
          "height": 35
        },
        "id": "10Mta4V4mvTR",
        "outputId": "79030e0d-101a-435b-83ab-4620cd4bff76"
      },
      "execution_count": 151,
      "outputs": [
        {
          "output_type": "execute_result",
          "data": {
            "text/plain": [
              "'2024-01-12'"
            ],
            "application/vnd.google.colaboratory.intrinsic+json": {
              "type": "string"
            }
          },
          "metadata": {},
          "execution_count": 151
        }
      ]
    },
    {
      "cell_type": "code",
      "source": [
        "def closing_price(ticker):\n",
        "    Asset = pd.DataFrame(yf.download(ticker, start=Start,\n",
        "      end=End))\n",
        "    return Asset"
      ],
      "metadata": {
        "id": "5MLZZMAUo0kz"
      },
      "execution_count": 152,
      "outputs": []
    },
    {
      "cell_type": "code",
      "source": [
        "logitech = closing_price('LOGI')\n",
        "print(logitech)\n",
        "plt.plot(logitech['Adj Close'])\n",
        "plt.show()"
      ],
      "metadata": {
        "colab": {
          "base_uri": "https://localhost:8080/",
          "height": 708
        },
        "id": "Pp3qbQJjo3pP",
        "outputId": "bf973f0b-9c22-4e0b-a42f-aae35a72b719"
      },
      "execution_count": 153,
      "outputs": [
        {
          "output_type": "stream",
          "name": "stdout",
          "text": [
            "\r[*********************100%%**********************]  1 of 1 completed\n",
            "                 Open       High        Low      Close  Adj Close   Volume\n",
            "Date                                                                      \n",
            "2023-01-10  66.650002  67.199997  66.080002  67.199997  66.089645   507400\n",
            "2023-01-11  67.580002  68.169998  67.059998  68.150002  67.023956   517400\n",
            "2023-01-12  56.439999  57.869999  55.509998  56.660000  55.723804  5048100\n",
            "2023-01-13  54.070000  55.209999  54.009998  54.740002  53.835529  2104800\n",
            "2023-01-17  54.860001  55.259998  54.419998  54.869999  53.963379   968800\n",
            "...               ...        ...        ...        ...        ...      ...\n",
            "2024-01-04  92.940002  93.449997  92.510002  92.879997  92.879997   221600\n",
            "2024-01-05  92.000000  92.959999  91.980003  92.559998  92.559998   273300\n",
            "2024-01-08  93.779999  94.879997  93.779999  94.720001  94.720001   198500\n",
            "2024-01-09  94.260002  94.660004  93.839996  94.029999  94.029999   473600\n",
            "2024-01-10  95.339996  96.150002  95.230003  95.540001  95.540001   116588\n",
            "\n",
            "[252 rows x 6 columns]\n"
          ]
        },
        {
          "output_type": "display_data",
          "data": {
            "text/plain": [
              "<Figure size 640x480 with 1 Axes>"
            ],
            "image/png": "[encoded data removed]"
          },
          "metadata": {}
        }
      ]
    },
    {
      "cell_type": "markdown",
      "source": [
        "ny kode"
      ],
      "metadata": {
        "id": "vXvlQj6roGqZ"
      }
    },
    {
      "cell_type": "code",
      "source": [
        "train_data = logitech\n",
        "test_data = logitech"
      ],
      "metadata": {
        "id": "6E-CdcV8r5xA"
      },
      "execution_count": 154,
      "outputs": []
    },
    {
      "cell_type": "code",
      "source": [
        "features = ['Open', 'Volume']\n",
        "target = 'Close'"
      ],
      "metadata": {
        "id": "erv0XwiFtC64"
      },
      "execution_count": 155,
      "outputs": []
    },
    {
      "cell_type": "code",
      "source": [],
      "metadata": {
        "id": "ZiOSIwAADIF4"
      },
      "execution_count": null,
      "outputs": []
    },
    {
      "cell_type": "code",
      "source": [
        "close = np.array(train_data[features])\n",
        "\n",
        "close_normalizer = layers.Normalization(axis=-1)\n",
        "close_normalizer.adapt(close)"
      ],
      "metadata": {
        "id": "xyumX7RHtLqG"
      },
      "execution_count": 165,
      "outputs": []
    },
    {
      "cell_type": "code",
      "source": [
        "model = tf.keras.Sequential([\n",
        "    close_normalizer,\n",
        "    layers.Dense(units=1)\n",
        "])\n",
        "\n",
        "model.summary()"
      ],
      "metadata": {
        "colab": {
          "base_uri": "https://localhost:8080/"
        },
        "id": "_EdcEy9hv5ny",
        "outputId": "b1e1e807-9f87-49f4-f073-ad012f410745"
      },
      "execution_count": 166,
      "outputs": [
        {
          "output_type": "stream",
          "name": "stdout",
          "text": [
            "Model: \"sequential_14\"\n",
            "_________________________________________________________________\n",
            " Layer (type)                Output Shape              Param #   \n",
            "=================================================================\n",
            " normalization_9 (Normaliza  (None, 2)                 5         \n",
            " tion)                                                           \n",
            "                                                                 \n",
            " dense_22 (Dense)            (None, 1)                 3         \n",
            "                                                                 \n",
            "=================================================================\n",
            "Total params: 8 (36.00 Byte)\n",
            "Trainable params: 3 (12.00 Byte)\n",
            "Non-trainable params: 5 (24.00 Byte)\n",
            "_________________________________________________________________\n"
          ]
        }
      ]
    },
    {
      "cell_type": "code",
      "source": [
        "model.compile(\n",
        "    optimizer=tf.keras.optimizers.Adam(learning_rate=0.1),\n",
        "    loss='mean_absolute_error')"
      ],
      "metadata": {
        "id": "9I0V8dv2xO4F"
      },
      "execution_count": 167,
      "outputs": []
    },
    {
      "cell_type": "code",
      "source": [
        "%%time\n",
        "history = model.fit(\n",
        "    train_data[features],\n",
        "    train_data[target],\n",
        "    epochs=100,\n",
        "    verbose=0,\n",
        "    validation_split = 0.1\n",
        ")"
      ],
      "metadata": {
        "colab": {
          "base_uri": "https://localhost:8080/"
        },
        "id": "QzavKKzMv8ZP",
        "outputId": "714d5788-fbbe-461e-df98-7e21e9b207e7"
      },
      "execution_count": 168,
      "outputs": [
        {
          "output_type": "stream",
          "name": "stdout",
          "text": [
            "CPU times: user 4.74 s, sys: 174 ms, total: 4.92 s\n",
            "Wall time: 4.69 s\n"
          ]
        }
      ]
    },
    {
      "cell_type": "markdown",
      "source": [
        "der kan printes ud for at se alt data der vil komme fra predictions"
      ],
      "metadata": {
        "id": "ZUkq_BOYEmG9"
      }
    },
    {
      "cell_type": "code",
      "source": [
        "predictions = model.predict(test_data[features])"
      ],
      "metadata": {
        "colab": {
          "base_uri": "https://localhost:8080/"
        },
        "id": "GTG2f8b4wgMk",
        "outputId": "95b569d1-dfe6-4a67-dc1a-af8f6c9598fc"
      },
      "execution_count": 170,
      "outputs": [
        {
          "output_type": "stream",
          "name": "stdout",
          "text": [
            "8/8 [==============================] - 0s 4ms/step\n"
          ]
        }
      ]
    },
    {
      "cell_type": "markdown",
      "source": [
        "der kan også printes ud har for at se mere om dataen"
      ],
      "metadata": {
        "id": "fvQvdLnaEttb"
      }
    },
    {
      "cell_type": "code",
      "source": [
        "test_data[target]"
      ],
      "metadata": {
        "colab": {
          "base_uri": "https://localhost:8080/"
        },
        "id": "ye8CEH2Jwpqa",
        "outputId": "d3eb3388-12e3-4ec9-84ed-8a163458dce7"
      },
      "execution_count": 171,
      "outputs": [
        {
          "output_type": "execute_result",
          "data": {
            "text/plain": [
              "Date\n",
              "2023-01-10    67.199997\n",
              "2023-01-11    68.150002\n",
              "2023-01-12    56.660000\n",
              "2023-01-13    54.740002\n",
              "2023-01-17    54.869999\n",
              "                ...    \n",
              "2024-01-04    92.879997\n",
              "2024-01-05    92.559998\n",
              "2024-01-08    94.720001\n",
              "2024-01-09    94.029999\n",
              "2024-01-10    95.540001\n",
              "Name: Close, Length: 252, dtype: float64"
            ]
          },
          "metadata": {},
          "execution_count": 171
        }
      ]
    },
    {
      "cell_type": "code",
      "source": [
        "plt.plot(logitech['Close'], label = 'Close Price')\n",
        "plt.plot(test_data[target].index, predictions, label = 'predictions')\n",
        "plt.legend()\n",
        "plt.show()"
      ],
      "metadata": {
        "colab": {
          "base_uri": "https://localhost:8080/",
          "height": 430
        },
        "id": "Fi7KxXxLDouX",
        "outputId": "d12c1988-d2e0-4118-a1d1-40311f5492e2"
      },
      "execution_count": 172,
      "outputs": [
        {
          "output_type": "display_data",
          "data": {
            "text/plain": [
              "<Figure size 640x480 with 1 Axes>"
            ],
            "image/png": "[encoded data removed]"
          },
          "metadata": {}
        }
      ]
    },
    {
      "cell_type": "markdown",
      "source": [
        "\n",
        "\n",
        "\n",
        "\n",
        "\n",
        "\n",
        "\n",
        "\n",
        "\n",
        "\n",
        "\n",
        "\n",
        "\n",
        "\n",
        "\n",
        "\n",
        "hej\n",
        "\n"
      ],
      "metadata": {
        "id": "8exDD6rsrNs3"
      }
    }
  ],
  "metadata": {
    "kernelspec": {
      "display_name": "Python 3",
      "language": "python",
      "name": "python3"
    },
    "language_info": {
      "codemirror_mode": {
        "name": "ipython",
        "version": 3
      },
      "file_extension": ".py",
      "mimetype": "text/x-python",
      "name": "python",
      "nbconvert_exporter": "python",
      "pygments_lexer": "ipython3",
      "version": "3.11.7"
    },
    "colab": {
      "provenance": []
    }
  },
  "nbformat": 4,
  "nbformat_minor": 0
}