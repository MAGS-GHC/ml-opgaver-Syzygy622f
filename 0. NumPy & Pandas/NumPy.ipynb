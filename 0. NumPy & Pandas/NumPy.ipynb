{
  "cells": [
    {
      "cell_type": "markdown",
      "metadata": {
        "id": "azZFyENLZm_g"
      },
      "source": [
        "# Introduktion til NumPy\n",
        "\n",
        "[Numpy](https://numpy.org/doc/stable/index.html) er et Python-bibliotek til oprettelse og manipulation af matricer, den primære datastruktur, der bruges af maskinlæringsalgoritmer. [Matricer](https://da.wikipedia.org/wiki/Matrix_(matematik)) er matematiske objekter, der bruges til at gemme værdier i rækker og kolonner. I kender dem nok fra mange andre sprog og strukturen i en SQL database. Derfor er det også nemt at få data fra en central SQL-database og bruge det til machinelearning.\n",
        "\n",
        "I Python kaldes matricer *lists*, NumPy kalder dem *arrays*, og TensorFlow kalder dem *tensors*. Python repræsenterer matricer med datatypen [liste](https://docs.python.org/3/library/stdtypes.html#lists).\n",
        "\n",
        "NumPy er et stort bibliotek som bruges i flere grene, vi kommer ikke til at gå i dybden med NumPy, men vi skal have en grundlæggende forståelse for at kunne bruge det til resten af vores 10 dages ML kursus.\n",
        "\n",
        "Mange af operationerne kender I nok fra andre sprog, men så har I også muligheden for at vende jer lidt til Python syntaxen\n"
      ]
    },
    {
      "cell_type": "markdown",
      "metadata": {
        "id": "Ll9RWewwFwX6"
      },
      "source": [
        "## Import NumPy module\n",
        "\n",
        "Vi skal installere NumPy modulet for at kunne bruge det senere"
      ]
    },
    {
      "cell_type": "code",
      "execution_count": null,
      "metadata": {
        "id": "guvPzSWYJGZ4"
      },
      "outputs": [],
      "source": [
        "import numpy as np"
      ]
    },
    {
      "cell_type": "markdown",
      "metadata": {
        "id": "7cT9fXS_JUpa"
      },
      "source": [
        "## Populate arrays with specific numbers\n",
        "\n",
        "Skriv `np.array` for at lave en NumPy array, med værdi som du selv vælger. Her er et eksempel med `np.array` som laver en 8-elementer langt en dimensionelt array:"
      ]
    },
    {
      "cell_type": "code",
      "execution_count": null,
      "metadata": {
        "colab": {
          "base_uri": "https://localhost:8080/"
        },
        "id": "XxJR5xKpJbB3",
        "outputId": "328fb4fb-69fc-496a-d974-7a3851223aa6"
      },
      "outputs": [
        {
          "output_type": "stream",
          "name": "stdout",
          "text": [
            "[1.2 2.4 3.5 4.7 6.1 7.2 8.3 9.5]\n"
          ]
        }
      ],
      "source": [
        "one_dimensional_array = np.array([1.2, 2.4, 3.5, 4.7, 6.1, 7.2, 8.3, 9.5])\n",
        "print(one_dimensional_array)"
      ]
    },
    {
      "cell_type": "markdown",
      "metadata": {
        "id": "RKywqhLTbR1M"
      },
      "source": [
        "Du kan også bruge `np.array` til at oprette en todimensionel matrix. For at oprette en todimensionel matrix skal du angive en ekstra lag af firkantede parenteser. For eksempel opretter følgende kald en 3x2 matrix:"
      ]
    },
    {
      "cell_type": "code",
      "execution_count": null,
      "metadata": {
        "colab": {
          "base_uri": "https://localhost:8080/"
        },
        "id": "_veGj18eMCDu",
        "outputId": "69e60949-56b6-441f-a754-356321c589dc"
      },
      "outputs": [
        {
          "output_type": "stream",
          "name": "stdout",
          "text": [
            "[[ 6  5]\n",
            " [11  7]\n",
            " [ 4  8]]\n"
          ]
        }
      ],
      "source": [
        "two_dimensional_array = np.array([[6, 5], [11, 7], [4, 8]])\n",
        "print(two_dimensional_array)"
      ]
    },
    {
      "cell_type": "markdown",
      "metadata": {
        "id": "0ED7eug9CvGR"
      },
      "source": [
        "For at udfylde en matrix rene nuller, kald `np.zeros`. For at udfylde en matrix med rene ettere, kald `np.ones`.\n"
      ]
    },
    {
      "cell_type": "markdown",
      "metadata": {
        "id": "gEy_pdBoROu3"
      },
      "source": [
        "## Udfyld arrays med sekvenser af tal\n",
        "\n",
        "Du kan udfylde et array med en sekvens af tal:\n"
      ]
    },
    {
      "cell_type": "code",
      "execution_count": null,
      "metadata": {
        "colab": {
          "base_uri": "https://localhost:8080/"
        },
        "id": "CjHfYWhdQYtO",
        "outputId": "44845cab-db1d-460c-bb0b-16ec1a37adc6"
      },
      "outputs": [
        {
          "output_type": "stream",
          "name": "stdout",
          "text": [
            "[ 5  6  7  8  9 10 11]\n"
          ]
        }
      ],
      "source": [
        "sequence_of_integers = np.arange(5, 12)\n",
        "print(sequence_of_integers)"
      ]
    },
    {
      "cell_type": "markdown",
      "metadata": {
        "id": "1x3OoWrPWn8S"
      },
      "source": [
        "Bemærk, at `np.arange` genererer en sekvens, der inkluderer den nedre grænse (5), men ikke den øvre grænse (12).\n",
        "Altså [5,12)\n"
      ]
    },
    {
      "cell_type": "markdown",
      "metadata": {
        "id": "aiqqxDBINAOY"
      },
      "source": [
        "## Udfyld arrays med tilfældige tal\n",
        "\n",
        "NumPy giver forskellige funktioner til at udfylde arrays med tilfældige tal inden for visse intervaller. For eksempel genererer `np.random.randint` tilfældige heltal mellem en lav og en høj værdi. Følgende kald udfylder et array med 6 elementer med tilfældige heltal mellem 50 og 100.\n",
        "\n",
        "\n"
      ]
    },
    {
      "cell_type": "code",
      "execution_count": null,
      "metadata": {
        "colab": {
          "base_uri": "https://localhost:8080/"
        },
        "id": "tG8ao9CsNqw8",
        "outputId": "f939df50-f857-4c06-c427-9db17bf9b404"
      },
      "outputs": [
        {
          "output_type": "stream",
          "name": "stdout",
          "text": [
            "[64 69 53 93 56 85]\n"
          ]
        }
      ],
      "source": [
        "random_integers_between_50_and_100 = np.random.randint(low=50, high=101, size=(6))\n",
        "print(random_integers_between_50_and_100)"
      ]
    },
    {
      "cell_type": "markdown",
      "metadata": {
        "id": "BSU7lMUcgRm3"
      },
      "source": [
        "Bemærk, at det højeste genererede heltal ved brug af `np.random.randint` er én mindre end argumentet `high`.\n"
      ]
    },
    {
      "cell_type": "markdown",
      "metadata": {
        "id": "lQF6-Eg0ksqE"
      },
      "source": [
        "For at oprette tilfældige decimaltal mellem 0.0 og 1.0, kald `np.random.random`. For eksempel:"
      ]
    },
    {
      "cell_type": "code",
      "execution_count": null,
      "metadata": {
        "colab": {
          "base_uri": "https://localhost:8080/"
        },
        "id": "6Ny0eXZPk5Ax",
        "outputId": "df70dca9-a8aa-4582-bf66-f11ec739a3d1"
      },
      "outputs": [
        {
          "output_type": "stream",
          "name": "stdout",
          "text": [
            "[0.5616884  0.99269269 0.18915939 0.61443548 0.08216645 0.46926373]\n"
          ]
        }
      ],
      "source": [
        "random_floats_between_0_and_1 = np.random.random([6])\n",
        "print(random_floats_between_0_and_1)"
      ]
    },
    {
      "cell_type": "markdown",
      "metadata": {
        "id": "eXOdSjRlSEf6"
      },
      "source": [
        "## Matematiske operationer på NumPy-operand\n",
        "\n",
        "Hvis du ønsker at lægge to arrays sammen eller trække dem fra hinanden, kræver lineær algebra, at de to operander har de samme dimensioner. Derudover, hvis du ønsker at multiplicere to arrays, pålægger lineær algebra strenge regler for den dimensionelle kompatibilitet af operanderne. Heldigvis bruger NumPy en teknik kaldet [**broadcasting**](https://developers.google.com/machine-learning/glossary/#broadcasting) til at virtuelt udvide den mindre operand til dimensioner, der er kompatible med lineær algebra. For eksempel bruger følgende operation broadcasting til at tilføje 2.0 til værdien af hvert element i arrayet, der blev oprettet i den foregående kodecelle:\n"
      ]
    },
    {
      "cell_type": "code",
      "execution_count": null,
      "metadata": {
        "colab": {
          "base_uri": "https://localhost:8080/"
        },
        "id": "J5E5S0wjRvQr",
        "outputId": "89124a8d-293e-4bd3-dee2-7a0d680f5b03"
      },
      "outputs": [
        {
          "output_type": "stream",
          "name": "stdout",
          "text": [
            "[2.5616884  2.99269269 2.18915939 2.61443548 2.08216645 2.46926373]\n"
          ]
        }
      ],
      "source": [
        "random_floats_between_2_and_3 = random_floats_between_0_and_1 + 2.0\n",
        "print(random_floats_between_2_and_3)"
      ]
    },
    {
      "cell_type": "markdown",
      "metadata": {
        "id": "x6K_poVDPpAg"
      },
      "source": [
        "Den følgende operation afhænger også af broadcasting for at multiplicere hvert element i et array med 3:\n"
      ]
    },
    {
      "cell_type": "code",
      "execution_count": null,
      "metadata": {
        "colab": {
          "base_uri": "https://localhost:8080/"
        },
        "id": "tYjvXmvFPoPB",
        "outputId": "221ee1c0-cddd-46ed-a56a-31fdcda62a9d"
      },
      "outputs": [
        {
          "output_type": "stream",
          "name": "stdout",
          "text": [
            "[192 207 159 279 168 255]\n"
          ]
        }
      ],
      "source": [
        "random_integers_between_150_and_300 = random_integers_between_50_and_100 * 3\n",
        "print(random_integers_between_150_and_300)"
      ]
    },
    {
      "cell_type": "markdown",
      "metadata": {
        "id": "hfYVa8iQTaUL"
      },
      "source": [
        "## Opgave 1: Opret et lineært datasæt\n",
        "\n",
        "Dit mål er at oprette et simpelt datasæt bestående af en enkelt funktion (feature) og en etiket (label) som følger:\n",
        "\n",
        "1. Tildel en sekvens af heltal fra 6 til 20 (inklusiv) til et NumPy-array kaldet `feature`.\n",
        "2. Tildel 15 værdier til et NumPy-array kaldet `label` på følgende måde:\n",
        "\n",
        "```\n",
        "   label = (3)(feature) + 4\n",
        "```\n",
        "For eksempel skal den første værdi for `label` være:\n",
        "\n",
        "```\n",
        "  label = (3)(6) + 4 = 22\n",
        " ```"
      ]
    },
    {
      "cell_type": "code",
      "execution_count": null,
      "metadata": {
        "colab": {
          "base_uri": "https://localhost:8080/"
        },
        "id": "qK9UF2rUc3Y_",
        "outputId": "d35019ca-9b3f-4595-ef0a-f9e76a2cacf6"
      },
      "outputs": [
        {
          "output_type": "stream",
          "name": "stdout",
          "text": [
            "[ 6  7  8  9 10 11 12 13 14 15 16 17 18 19 20]\n",
            "[22 25 28 31 34 37 40 43 46 49 52 55 58 61 64]\n"
          ]
        }
      ],
      "source": [
        "feature = np.arange(6, 21) # write your code here\n",
        "print(feature)\n",
        "label = (feature * 3) + 4   # write your code here\n",
        "print(label)"
      ]
    },
    {
      "cell_type": "code",
      "execution_count": null,
      "metadata": {
        "id": "KjtIAYvMTPGl"
      },
      "outputs": [],
      "source": [
        "#@title Double-click to see a possible solution to Task 1.\n",
        "feature = np.arange(6, 21)\n",
        "print(feature)\n",
        "label = (feature * 3) + 4\n",
        "print(label)"
      ]
    },
    {
      "cell_type": "markdown",
      "metadata": {
        "id": "RNsjGYRj87PB"
      },
      "source": [
        "## Opgave 2: Tilføj lidt støj til datasættet\n",
        "\n",
        "For at gøre dit datasæt lidt mere realistisk, skal du indsætte lidt tilfældig støj i hvert element i det `label`-array, du allerede har oprettet. Præcist sagt, skal du ændre hver værdi, der er tildelt `label`, ved at tilføje en *forskellig* tilfældig decimalværdi mellem -2 og +2.\n",
        "\n",
        "Stol ikke på broadcasting. Opret i stedet et `noise`-array med samme dimension som `label`.\n"
      ]
    },
    {
      "cell_type": "code",
      "execution_count": null,
      "metadata": {
        "id": "HF-flFfs9r0q",
        "outputId": "f1feb785-ddf5-439b-f3ab-6f4b18d3814f",
        "colab": {
          "base_uri": "https://localhost:8080/"
        }
      },
      "outputs": [
        {
          "output_type": "stream",
          "name": "stdout",
          "text": [
            "[-1.18745962 -0.23045874 -1.54035586 -0.1538498   0.1358761  -1.5965996\n",
            "  1.56604705 -1.12240513  0.45794404  0.14183184  0.01408157  1.25889894\n",
            " -0.39204371 -1.1623343  -1.97001177]\n",
            "[20.81254038 24.76954126 26.45964414 30.8461502  34.1358761  35.4034004\n",
            " 41.56604705 41.87759487 46.45794404 49.14183184 52.01408157 56.25889894\n",
            " 57.60795629 59.8376657  62.02998823]\n"
          ]
        }
      ],
      "source": [
        "noise = (np.random.random([15]) * 4) -2    # write your code here\n",
        "print(noise)\n",
        "label = label + noise    # write your code here\n",
        "print(label)"
      ]
    },
    {
      "cell_type": "code",
      "execution_count": null,
      "metadata": {
        "id": "7chgYKrC93np"
      },
      "outputs": [],
      "source": [
        "#Løsning til Task 2\n",
        "\n",
        "noise = (np.random.random([15]) * 4) - 2\n",
        "print(noise)\n",
        "label = label + noise\n",
        "print(label)"
      ]
    }
  ],
  "metadata": {
    "colab": {
      "collapsed_sections": [
        "azZFyENLZm_g",
        "DeKRcpe49VnV",
        "jY-QAVIhcDDR",
        "r843-s6ZcF8C"
      ],
      "provenance": []
    },
    "kernelspec": {
      "display_name": "Python 3",
      "name": "python3"
    },
    "language_info": {
      "codemirror_mode": {
        "name": "ipython",
        "version": 3
      },
      "file_extension": ".py",
      "mimetype": "text/x-python",
      "name": "python",
      "nbconvert_exporter": "python",
      "pygments_lexer": "ipython3",
      "version": "3.11.7"
    }
  },
  "nbformat": 4,
  "nbformat_minor": 0
}